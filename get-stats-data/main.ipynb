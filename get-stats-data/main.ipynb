{
 "cells": [
  {
   "cell_type": "markdown",
   "metadata": {},
   "source": [
    "### Récupération des données de statistiques d'Aftercinema"
   ]
  },
  {
   "cell_type": "markdown",
   "metadata": {},
   "source": [
    "#### Vérification du bon fonctionnement de l'environnement + installations + imports"
   ]
  },
  {
   "cell_type": "code",
   "execution_count": null,
   "metadata": {},
   "outputs": [],
   "source": [
    "print(\"hello\")"
   ]
  },
  {
   "cell_type": "code",
   "execution_count": null,
   "metadata": {},
   "outputs": [],
   "source": [
    "%pip install requests\n",
    "%pip install pandas\n",
    "%pip install sqlalchemy\n",
    "%pip install psycopg2"
   ]
  },
  {
   "cell_type": "code",
   "execution_count": null,
   "metadata": {},
   "outputs": [],
   "source": [
    "import os\n",
    "import json\n",
    "import requests\n",
    "import pandas as pd\n",
    "from sqlalchemy import create_engine, Table, Column, String, MetaData, Date, JSON\n",
    "from datetime import datetime"
   ]
  },
  {
   "cell_type": "markdown",
   "metadata": {},
   "source": [
    "#### 1.Récupération des données PostHog"
   ]
  },
  {
   "cell_type": "code",
   "execution_count": null,
   "metadata": {},
   "outputs": [],
   "source": [
    "token = os.getenv(\"POSTHOG_API_KEY\")\n",
    "\n",
    "headers = {\"Authorization\": f\"Bearer {token}\"}\n",
    "\n",
    "with open(\"./POSTHOG_QUERIES.json\", 'r') as fichier:\n",
    "    queries = json.load(fichier)\n",
    "\n",
    "events_data = {}\n",
    "\n",
    "for event in [\"Page viewed\",\"Platform button clicked\"]:\n",
    "    data = {\n",
    "        \"query\": {\n",
    "            \"kind\": \"HogQLQuery\",\n",
    "            \"query\": queries[event]\n",
    "        }\n",
    "    }\n",
    "\n",
    "    request = requests.post(\"https://eu.posthog.com/api/projects/20861/query\",headers=headers,json=data)\n",
    "\n",
    "    data = request.json()\n",
    "\n",
    "    df = pd.DataFrame(data[\"results\"])\n",
    "    df.columns = data[\"columns\"]\n",
    "\n",
    "    events_data[event] = df"
   ]
  },
  {
   "cell_type": "markdown",
   "metadata": {},
   "source": [
    "Traitement des données pour le graphique PostHog - plateformes"
   ]
  },
  {
   "cell_type": "code",
   "execution_count": null,
   "metadata": {},
   "outputs": [],
   "source": [
    "df_platforms = events_data[\"Platform button clicked\"]\n",
    "df_platforms = df_platforms.groupby('platform').size().reset_index(name='count')\n",
    "result_platforms = df_platforms.to_dict(orient='records')"
   ]
  },
  {
   "cell_type": "markdown",
   "metadata": {},
   "source": [
    "Traitement des données pour le graphique PostHog - pages"
   ]
  },
  {
   "cell_type": "code",
   "execution_count": null,
   "metadata": {},
   "outputs": [],
   "source": [
    "df_pages = events_data[\"Page viewed\"]\n",
    "df_pages['time'] = pd.to_datetime(df_pages['time'])\n",
    "df_pages['year_month'] = df_pages['time'].dt.tz_localize(None).dt.to_period('M')\n",
    "month_map = {1: 'jan', 2: 'fév', 3: 'mar', 4: 'avr', 5: 'mai', 6: 'jun',7: 'jui', 8: 'aoû', 9: 'sep', 10: 'oct', 11: 'nov', 12: 'déc'}\n",
    "df_pages['month'] = df_pages['year_month'].dt.month.map(month_map) + \" \" + (df_pages['year_month'].dt.year % 100).astype(str)\n",
    "df_pages['page'] = df_pages['url'].apply(lambda x: '/listen' if '/listen' in x else '/')\n",
    "df_pages = df_pages.groupby(['month', 'page']).size().reset_index(name='count')\n",
    "df_pages = df_pages.pivot(index='month', columns='page', values='count').fillna(0).reset_index()\n",
    "result_pages = df_pages.to_dict(orient='records')"
   ]
  },
  {
   "cell_type": "markdown",
   "metadata": {},
   "source": [
    "#### Stockage du résultat"
   ]
  },
  {
   "cell_type": "code",
   "execution_count": null,
   "metadata": {},
   "outputs": [],
   "source": [
    "data_to_insert = [\n",
    "    {\n",
    "        \"data_name\":\"PostHog - Page viewed\",\n",
    "        \"data\":result_pages,\n",
    "        \"date\": datetime.now().strftime(\"%Y-%m-%d %H:%M\")\n",
    "    },\n",
    "    {\n",
    "        \"data_name\":\"PostHog - Platform button clicked\",\n",
    "        \"data\":result_platforms,\n",
    "        \"date\": datetime.now().strftime(\"%Y-%m-%d %H:%M\")\n",
    "    }\n",
    "]\n",
    "\n",
    "engine = create_engine(os.getenv(\"POSTGRESQL_CONN_STRING\"))\n",
    "\n",
    "metadata = MetaData()\n",
    "table = Table('stats_data', metadata,\n",
    "              Column('data_name', String),\n",
    "              Column('data', JSON),\n",
    "              Column('date', String))\n",
    "\n",
    "metadata.create_all(engine)\n",
    "\n",
    "for line in data_to_insert:\n",
    "    with engine.connect() as connection:\n",
    "        with connection.begin() as transaction:\n",
    "            connection.execute(table.insert().values(data_name=line[\"data_name\"],data=line[\"data\"],date=line[\"date\"]))\n",
    "            transaction.commit()"
   ]
  }
 ],
 "metadata": {
  "kernelspec": {
   "display_name": "Python 3",
   "language": "python",
   "name": "python3"
  },
  "language_info": {
   "codemirror_mode": {
    "name": "ipython",
    "version": 3
   },
   "file_extension": ".py",
   "mimetype": "text/x-python",
   "name": "python",
   "nbconvert_exporter": "python",
   "pygments_lexer": "ipython3",
   "version": "3.10.11"
  }
 },
 "nbformat": 4,
 "nbformat_minor": 2
}
